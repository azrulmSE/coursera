{
  "nbformat": 4,
  "nbformat_minor": 0,
  "metadata": {
    "colab": {
      "provenance": []
    },
    "kernelspec": {
      "name": "python3",
      "display_name": "Python 3"
    },
    "language_info": {
      "name": "python"
    }
  },
  "cells": [
    {
      "cell_type": "markdown",
      "source": [
        "Exercise 2\n",
        "# Tools for Data Science"
      ],
      "metadata": {
        "id": "_lS8sQZq-QUX"
      }
    },
    {
      "cell_type": "markdown",
      "source": [
        "Exercise 3 <br>\n",
        "This Jupyter notebook is to brief the tool for data science"
      ],
      "metadata": {
        "id": "nrehmVuYpZx0"
      }
    },
    {
      "cell_type": "markdown",
      "source": [
        "Exercise 4 <br>\n",
        "List of data science languages:\n",
        "* Python\n",
        "* R Language\n",
        "* SQL"
      ],
      "metadata": {
        "id": "sxWbpKVup3cq"
      }
    },
    {
      "cell_type": "markdown",
      "source": [
        "Exercise 5 <br>\n",
        "List data science libraries:\n",
        "1. Numpy\n",
        "1. Pandas\n",
        "1. Keras\n",
        "1. scikit-learn\n",
        "1. plotly"
      ],
      "metadata": {
        "id": "CdXhdFlOqK4f"
      }
    },
    {
      "cell_type": "markdown",
      "source": [
        "Exercise 6 <br>\n",
        "|No. |Tools Name|\n",
        "|---|---|\n",
        "|1.|RStudio|\n",
        "|2.|Jupyter|\n",
        "|3.|MySQL|"
      ],
      "metadata": {
        "id": "FfZ0XSMIq4cS"
      }
    },
    {
      "cell_type": "markdown",
      "source": [
        "Exercise 7 <br>\n",
        "The quadratic formula is given by:\n",
        "$$ x = \\frac{-b \\pm \\sqrt{b^2 - 4ac}}{2a} $$"
      ],
      "metadata": {
        "id": "4cdpLtovrsoS"
      }
    },
    {
      "cell_type": "code",
      "source": [
        "# Exercise 8\n",
        "def multiply(a, b):\n",
        "  return a * b\n",
        "\n",
        "def add(a, b):\n",
        "  return a + b\n",
        "\n",
        "print(\"Multiply: \", multiply(2,3))\n",
        "print(\"Additional: \", add(2,3))\n"
      ],
      "metadata": {
        "colab": {
          "base_uri": "https://localhost:8080/"
        },
        "id": "-5Lfwp5Cq6Ei",
        "outputId": "13c70184-5314-4cb5-ecda-f6f3ec4e4ada"
      },
      "execution_count": 1,
      "outputs": [
        {
          "output_type": "stream",
          "name": "stdout",
          "text": [
            "Multiply:  6\n",
            "Additional:  5\n"
          ]
        }
      ]
    },
    {
      "cell_type": "code",
      "source": [
        "# Exercise 9\n",
        "minutes = 150\n",
        "hours_decimal = minutes / 60\n",
        "print(hours_decimal)"
      ],
      "metadata": {
        "colab": {
          "base_uri": "https://localhost:8080/"
        },
        "id": "VRRn3WD_swfK",
        "outputId": "de6240ad-ced5-4dca-a3f3-93d99299cb30"
      },
      "execution_count": null,
      "outputs": [
        {
          "output_type": "stream",
          "name": "stdout",
          "text": [
            "2.5\n"
          ]
        }
      ]
    },
    {
      "cell_type": "markdown",
      "source": [
        "Exercise 10 <br>\n",
        " ## Objectives\n",
        "    -   Objective 1: Learn to use notebook jupyter\n",
        "    -   Objective 2: Run program on jupyter\n",
        "    -   Objective 3: Share file jupyter with peer\n",
        "    -   Objective 4: Analyze results and draw conclusions."
      ],
      "metadata": {
        "id": "DE6Zr5pltZe6"
      }
    },
    {
      "cell_type": "markdown",
      "source": [
        "Exercise 11 <br>\n",
        "## Author\n",
        "\n",
        "[Azrulmukmin bin Azmi]"
      ],
      "metadata": {
        "id": "m3zB6mR-t_30"
      }
    },
    {
      "cell_type": "code",
      "source": [],
      "metadata": {
        "id": "IycOzyMBtl8q"
      },
      "execution_count": null,
      "outputs": []
    }
  ]
}